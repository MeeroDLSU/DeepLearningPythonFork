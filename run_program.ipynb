{
  "nbformat": 4,
  "nbformat_minor": 0,
  "metadata": {
    "colab": {
      "provenance": [],
      "gpuType": "T4"
    },
    "kernelspec": {
      "name": "python3",
      "display_name": "Python 3"
    },
    "language_info": {
      "name": "python"
    }
  },
  "cells": [
    {
      "cell_type": "markdown",
      "source": [
        "Import modules"
      ],
      "metadata": {
        "id": "ZCSJtq8K7Bqu"
      }
    },
    {
      "cell_type": "code",
      "source": [
        "import mnist_loader\n",
        "import numpy as np\n",
        "from updated_network_v2 import Network\n"
      ],
      "metadata": {
        "id": "4TcElj-Ex-cv"
      },
      "execution_count": null,
      "outputs": []
    },
    {
      "cell_type": "markdown",
      "source": [
        "Load the MNIST Dataset"
      ],
      "metadata": {
        "id": "debpL_v07Fm_"
      }
    },
    {
      "cell_type": "code",
      "source": [
        "training_data, validation_data, test_data = mnist_loader.load_data_wrapper()\n",
        "training_data = list(training_data)"
      ],
      "metadata": {
        "id": "-aVJVuhyH4nB"
      },
      "execution_count": null,
      "outputs": []
    },
    {
      "cell_type": "markdown",
      "source": [
        "Initialize arhitecture of the NN"
      ],
      "metadata": {
        "id": "1g9kBvr67Kfr"
      }
    },
    {
      "cell_type": "code",
      "source": [
        "nn_backprop = Network([784, 30, 10])\n",
        "nn_centered_diff = Network([784, 30, 10])"
      ],
      "metadata": {
        "id": "5Qs2J7ruJPGv"
      },
      "execution_count": null,
      "outputs": []
    },
    {
      "cell_type": "markdown",
      "source": [
        "Training of the two networks"
      ],
      "metadata": {
        "id": "EgUdsbM47Z_S"
      }
    },
    {
      "cell_type": "code",
      "source": [
        "# Training using backpropagation\n",
        "print(\"Training using backpropagation...\")\n",
        "nn_backprop.SGD(training_data, epochs=30, mini_batch_size=10, eta=0.5, mode = \"backprop\" ,test_data=test_data)"
      ],
      "metadata": {
        "id": "AvntGHRXIEqt"
      },
      "execution_count": null,
      "outputs": []
    },
    {
      "cell_type": "code",
      "source": [
        "# Training using centered difference (assuming you've modified the update_mini_batch method to use centered_diff)\n",
        "print(\"\\nTraining using centered difference...\")\n",
        "nn_centered_diff.SGD(training_data, epochs=30, mini_batch_size=10, eta=0.5, mode = \"centered_diff\", test_data=test_data)"
      ],
      "metadata": {
        "id": "STTbcAkYIFPN"
      },
      "execution_count": null,
      "outputs": []
    },
    {
      "cell_type": "code",
      "source": [
        "# Print and compare the cost history for both training methods\n",
        "print(\"\\nCost history using backpropagation:\", nn_backprop.cost_history)\n",
        "print(\"Cost history using centered difference:\", nn_centered_diff.cost_history)"
      ],
      "metadata": {
        "id": "QDg2DCOcIIWK"
      },
      "execution_count": null,
      "outputs": []
    }
  ]
}